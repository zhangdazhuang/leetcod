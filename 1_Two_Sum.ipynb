{
 "cells": [
  {
   "cell_type": "code",
   "execution_count": 14,
   "metadata": {},
   "outputs": [
    {
     "data": {
      "text/plain": [
       "[1, 2]"
      ]
     },
     "execution_count": 14,
     "metadata": {},
     "output_type": "execute_result"
    }
   ],
   "source": [
    "def twoSum(nums, target):\n",
    "    for i in range(len(nums)):\n",
    "        for j in range(i+1,len(nums)):\n",
    "            if nums[i] + nums[j] == target:\n",
    "                return [i,j]"
   ]
  },
  {
   "cell_type": "code",
   "execution_count": 20,
   "metadata": {},
   "outputs": [],
   "source": [
    "def twoSum( nums, target):\n",
    "    for i in nums:\n",
    "        temp = nums[nums.index(i)+1:]\n",
    "        for j in temp:\n",
    "            if i + j == target:\n",
    "                # return(nums.index(i),len(nums)-list(reversed(nums)).index(j)-1)\n",
    "                return(nums.index(i),nums[nums.index(i)+1:].index(j)+nums.index(i)+1)\n",
    "   "
   ]
  },
  {
   "cell_type": "code",
   "execution_count": null,
   "metadata": {},
   "outputs": [],
   "source": [
    "def twoSum(nums, target):\n",
    "    for i in range(len(nums)):\n",
    "        for j in range(i+1,len(nums)):\n",
    "            if nums[i] + nums[j] == target:\n",
    "                return [i,j]"
   ]
  },
  {
   "cell_type": "code",
   "execution_count": 22,
   "metadata": {},
   "outputs": [
    {
     "data": {
      "text/plain": [
       "(0, 3)"
      ]
     },
     "execution_count": 22,
     "metadata": {},
     "output_type": "execute_result"
    }
   ],
   "source": [
    "twoSum([2,7,11,15],17)"
   ]
  },
  {
   "cell_type": "code",
   "execution_count": 73,
   "metadata": {},
   "outputs": [],
   "source": [
    "nums = [1,2,3,4,5,67,8]\n",
    "# s = sorted(l)"
   ]
  },
  {
   "cell_type": "code",
   "execution_count": 51,
   "metadata": {},
   "outputs": [],
   "source": [
    "'''返回元素对的位置'''\n",
    "from typing import List\n",
    "class Solution:\n",
    "    def twoSum(self, nums: List[int], target: int) -> List[int]:\n",
    "        new_nums = sorted(nums)\n",
    "        ## 左右双指针\n",
    "        left = 0\n",
    "        right = len(new_nums)-1\n",
    "        sum_result = 0\n",
    "        while(left < right):\n",
    "            sum_result = new_nums[left] + new_nums[right]\n",
    "            if sum_result < target :\n",
    "                left = left + 1 \n",
    "            elif sum_result > target:\n",
    "                right = right - 1 \n",
    "            elif sum_result == target:\n",
    "                first = nums.index(new_nums[left])\n",
    "                second = len(nums) - nums[::-1].index(new_nums[right]) - 1 \n",
    "                return [first, second]\n",
    "                # return [nums.index(new_nums[left]), nums.index(new_nums[height])] ## 无法区分重复值\n",
    "        return []"
   ]
  },
  {
   "cell_type": "code",
   "execution_count": 52,
   "metadata": {},
   "outputs": [
    {
     "data": {
      "text/plain": [
       "[0, 5]"
      ]
     },
     "execution_count": 52,
     "metadata": {},
     "output_type": "execute_result"
    }
   ],
   "source": [
    "s = Solution()\n",
    "s.twoSum(nums=[1,1,9,8,3,3],target=4)"
   ]
  },
  {
   "cell_type": "code",
   "execution_count": 120,
   "metadata": {},
   "outputs": [
    {
     "data": {
      "text/plain": [
       "[0, 1]"
      ]
     },
     "execution_count": 120,
     "metadata": {},
     "output_type": "execute_result"
    }
   ],
   "source": [
    "s = Solution()\n",
    "s.twoSum(nums=[3,3],target=6)"
   ]
  },
  {
   "cell_type": "code",
   "execution_count": 6,
   "metadata": {},
   "outputs": [],
   "source": [
    "'''返回元素对'''\n",
    "from typing import List\n",
    "class Solution:\n",
    "    def twoSum(self, nums: List[int], target: int) -> List[int]:\n",
    "        new_nums = sorted(nums)\n",
    "        ## 左右双指针\n",
    "        left = 0\n",
    "        right = len(new_nums)-1\n",
    "        sum_result = 0\n",
    "        while(left < right):\n",
    "            sum_result = new_nums[left] + new_nums[right]\n",
    "            if sum_result < target :\n",
    "                left = left + 1 \n",
    "            elif sum_result > target:\n",
    "                right = right - 1 \n",
    "            elif sum_result == target:\n",
    "                first = new_nums[left]\n",
    "                second = new_nums[right]\n",
    "                return [first, second]\n",
    "        return []"
   ]
  },
  {
   "cell_type": "code",
   "execution_count": 8,
   "metadata": {},
   "outputs": [
    {
     "data": {
      "text/plain": [
       "[1, 3]"
      ]
     },
     "execution_count": 8,
     "metadata": {},
     "output_type": "execute_result"
    }
   ],
   "source": [
    "s = Solution()\n",
    "s.twoSum(nums=[1,1,1,2,2,3,3],target=4)"
   ]
  },
  {
   "cell_type": "code",
   "execution_count": 23,
   "metadata": {},
   "outputs": [],
   "source": [
    "'''返回多组和为target的元素对'''\n",
    "from typing import List\n",
    "class Solution:\n",
    "    def twoSum(self, nums: List[int], target: int) -> List[int]:\n",
    "        new_nums = sorted(nums)\n",
    "        ## 左右双指针\n",
    "        left = 0\n",
    "        right = len(new_nums)-1\n",
    "        sum_result = 0\n",
    "        result = []\n",
    "        while(left < right):\n",
    "            left_value = new_nums[left]\n",
    "            right_value = new_nums[right]\n",
    "            sum_result = left_value + right_value\n",
    "            if sum_result < target :\n",
    "                ## 判断当前值与下一个值是否相等，相等则跳过\n",
    "                while left < right and new_nums[left] == left_value: left = left + 1 \n",
    "            elif sum_result > target:\n",
    "                while left < right and new_nums[right] == right_value: right = right - 1 \n",
    "            elif sum_result == target:\n",
    "                first = new_nums[left]\n",
    "                second = new_nums[right]\n",
    "                result.append([first, second])\n",
    "                # left = left + 1 \n",
    "                # right = right - 1 \n",
    "                ## 判断当前值与下一个值是否相等，相等则跳过\n",
    "                while left < right and new_nums[left] == left_value: left = left + 1 \n",
    "                while left < right and new_nums[right] == right_value: right = right - 1 \n",
    "        return result"
   ]
  },
  {
   "cell_type": "code",
   "execution_count": 24,
   "metadata": {},
   "outputs": [
    {
     "data": {
      "text/plain": [
       "[[1, 3], [2, 2]]"
      ]
     },
     "execution_count": 24,
     "metadata": {},
     "output_type": "execute_result"
    }
   ],
   "source": [
    "s = Solution()\n",
    "s.twoSum(nums=[1.1,1,1,2,2,3,3],target=4)"
   ]
  },
  {
   "cell_type": "code",
   "execution_count": 205,
   "metadata": {},
   "outputs": [],
   "source": [
    "'''返回多组和为target的元素对的位置，将位置作为小数存入当前数中，在运算是取整，不影响运算'''\n",
    "from typing import List\n",
    "class Solution:\n",
    "    def twoSum(self, nums: List[int], target: int) -> List[int]:\n",
    "        scale = 100000000000##数组长度限制\n",
    "        new_nums =[value+(idx/scale) if value>=0 else value-(idx/scale) for idx,value in enumerate(nums)]\n",
    "        new_nums = sorted(new_nums)\n",
    "        ## 左右双指针\n",
    "        left = 0\n",
    "        right = len(new_nums)-1\n",
    "        sum_result = 0\n",
    "        result = []\n",
    "        while(left < right):\n",
    "            sum_result = int(new_nums[left]) + int(new_nums[right])\n",
    "            if sum_result < target :\n",
    "                left = left + 1 \n",
    "            elif sum_result > target:\n",
    "                right = right - 1 \n",
    "            elif sum_result == target:\n",
    "                first = new_nums[left]*scale-int(new_nums[left])*scale\n",
    "                second = new_nums[right]*scale-int(new_nums[right])*scale\n",
    "                result.append([abs(round(first)), abs(round(second))])\n",
    "                left = left + 1 \n",
    "                right = right - 1 \n",
    "        return result"
   ]
  },
  {
   "cell_type": "code",
   "execution_count": 206,
   "metadata": {},
   "outputs": [
    {
     "data": {
      "text/plain": [
       "[[6, 5], [0, 4]]"
      ]
     },
     "execution_count": 206,
     "metadata": {},
     "output_type": "execute_result"
    }
   ],
   "source": [
    "s = Solution()\n",
    "l = [1,3,3,0,7,9,-1]\n",
    "s.twoSum(nums=l,target=8)"
   ]
  },
  {
   "cell_type": "code",
   "execution_count": 49,
   "metadata": {},
   "outputs": [],
   "source": [
    "'''返回元素对的位置， 获取列表中多组和为target的元素对，，以新建索引的方式，直接获取值的位置'''\n",
    "# from typing import List\n",
    "# class Solution:\n",
    "#     ## 解决重复值问题，同时能够找到多对元素之和等于target   ##此时的值会重复，但索引不重复\n",
    "#     def twoSum(self, nums: List[int], target: int) -> List[int]:\n",
    "#         new_nums = {}\n",
    "#         for idx,value in enumerate(nums):\n",
    "#             new_nums[idx] = value\n",
    "#         new_nums = sorted(new_nums.items(),key=lambda x: x[1])\n",
    "#         ## 左右双指针\n",
    "#         left = 0\n",
    "#         right = len(new_nums)-1\n",
    "#         sum_result = 0\n",
    "#         result = []\n",
    "#         while(left < right):\n",
    "#             sum_result = new_nums[left][1] + new_nums[right][1]\n",
    "#             if sum_result < target :\n",
    "#                 left = left + 1 \n",
    "#             elif sum_result > target:\n",
    "#                 right = right - 1 \n",
    "#             elif sum_result == target:\n",
    "#                 first = new_nums[left][0]\n",
    "#                 second = new_nums[right][0]\n",
    "#                 result.append([first, second])\n",
    "#                 left = left + 1    \n",
    "#                 right = right - 1 \n",
    "#         return result"
   ]
  },
  {
   "cell_type": "code",
   "execution_count": 50,
   "metadata": {},
   "outputs": [
    {
     "data": {
      "text/plain": [
       "[[0, 5], [1, 4]]"
      ]
     },
     "execution_count": 50,
     "metadata": {},
     "output_type": "execute_result"
    }
   ],
   "source": [
    "s = Solution()\n",
    "s.twoSum(nums=[1,1,9,8,3,3],target=4)"
   ]
  },
  {
   "cell_type": "code",
   "execution_count": 68,
   "metadata": {},
   "outputs": [],
   "source": [
    "# '''返回元素对的位置， 获取列表中多组和为target的元素对，，以新建索引的方式，直接获取值的位置'''\n",
    "# from typing import List\n",
    "# class Solution:\n",
    "#     ## 解决重复值问题，同时能够找到多对元素之和等于target   ##此时的值不会重复，但索引不重复\n",
    "#     def twoSum(self, nums: List[int], target: int) -> List[int]:\n",
    "#         new_nums = {}\n",
    "#         for idx,value in enumerate(nums):\n",
    "#             new_nums[idx] = value\n",
    "#         new_nums = sorted(new_nums.items(),key=lambda x: x[1])\n",
    "#         ## 左右双指针\n",
    "#         left = 0\n",
    "#         right = len(new_nums)-1\n",
    "#         sum_result = 0\n",
    "#         result = []\n",
    "#         while(left < right):\n",
    "#             left_value = new_nums[left][1]\n",
    "#             right_value = new_nums[right][1]\n",
    "#             sum_result = left_value + right_value\n",
    "#             if sum_result < target :\n",
    "#                 left = left + 1 \n",
    "#             elif sum_result > target:\n",
    "#                 right = right - 1 \n",
    "#             elif sum_result == target:\n",
    "#                 first = new_nums[left][0]\n",
    "#                 second = new_nums[right][0]\n",
    "#                 result.append([first, second])\n",
    "#                 while(left < right and new_nums[left][1] == left_value ):left = left + 1    \n",
    "#                 while(left < right and new_nums[right][1] == right_value ):right = right - 1    \n",
    "#         return result"
   ]
  },
  {
   "cell_type": "code",
   "execution_count": 69,
   "metadata": {},
   "outputs": [
    {
     "data": {
      "text/plain": [
       "[[0, 5]]"
      ]
     },
     "execution_count": 69,
     "metadata": {},
     "output_type": "execute_result"
    }
   ],
   "source": [
    "s = Solution()\n",
    "s.twoSum(nums=[1,1,9,8,3,3],target=4)"
   ]
  },
  {
   "cell_type": "code",
   "execution_count": null,
   "metadata": {},
   "outputs": [],
   "source": [
    "########## 3Sum之和"
   ]
  },
  {
   "cell_type": "code",
   "execution_count": 136,
   "metadata": {},
   "outputs": [],
   "source": [
    "nums = [11,22,33,44,55,67,86]\n",
    "new_nums = {}\n",
    "for idx,value in enumerate(nums):\n",
    "    new_nums[idx] = value\n",
    "new_nums = sorted(new_nums.items(),key=lambda x: x[1])"
   ]
  },
  {
   "cell_type": "code",
   "execution_count": 138,
   "metadata": {},
   "outputs": [
    {
     "data": {
      "text/plain": [
       "[(0, 11), (1, 22), (2, 33), (3, 44), (4, 55), (5, 67), (6, 86)]"
      ]
     },
     "execution_count": 138,
     "metadata": {},
     "output_type": "execute_result"
    }
   ],
   "source": [
    "new_nums"
   ]
  },
  {
   "cell_type": "code",
   "execution_count": 18,
   "metadata": {},
   "outputs": [],
   "source": [
    "from typing import List\n",
    "'''三数之和，调用两数之和'''\n",
    "class Solution:    \n",
    "    def twoSum(self, new_nums: List[int], start: int, target: int) -> List[int]:\n",
    "        # new_nums = sorted(nums)\n",
    "        ## 左右双指针, 左指针从start开始\n",
    "        left = start\n",
    "        right = len(new_nums)-1\n",
    "        sum_result = 0\n",
    "        result = []\n",
    "        while(left < right):\n",
    "            left_value = new_nums[left]\n",
    "            right_value = new_nums[right]\n",
    "            sum_result = left_value + right_value\n",
    "            if sum_result < target :\n",
    "                ## 判断当前值与下一个值是否相等，相等则跳过\n",
    "                while left < right and new_nums[left] == left_value: left = left + 1 \n",
    "            elif sum_result > target:\n",
    "                while left < right and new_nums[right] == right_value: right = right - 1 \n",
    "            elif sum_result == target:\n",
    "                first = new_nums[left]\n",
    "                second = new_nums[right]\n",
    "                result.append([first, second])\n",
    "                # left = left + 1 \n",
    "                # right = right - 1 \n",
    "                ## 判断当前值与下一个值是否相等，相等则跳过\n",
    "                while left < right and new_nums[left] == left_value: left = left + 1 \n",
    "                while left < right and new_nums[right] == right_value: right = right - 1 \n",
    "        return result\n",
    "    def threeSum(self, nums: List[int], target: int = 0) -> List[int]:\n",
    "        new_nums = sorted(nums)\n",
    "        threesum_result = []\n",
    "        i = 0\n",
    "        while i < len(new_nums):\n",
    "            # if new_nums[i]>target:   ## 排序后当前值大于target，，与后续值的和必然不能是target\n",
    "            #     i = i+1               ## 当target不为负数时，可以用此加速\n",
    "            #     continue\n",
    "            twosum_result = self.twoSum(new_nums=new_nums, start=i+1, target=target-new_nums[i])\n",
    "            for each in twosum_result:\n",
    "                each.extend([new_nums[i]])\n",
    "                threesum_result.append(each)\n",
    "            i = i+1\n",
    "            while i < len(new_nums) and new_nums[i-1] == new_nums[i]: ##判断上一个元素与新元素是否相同，相同则跳过，在此加一\n",
    "                i = i+1\n",
    "        return threesum_result\n",
    "\n"
   ]
  },
  {
   "cell_type": "code",
   "execution_count": 19,
   "metadata": {},
   "outputs": [
    {
     "data": {
      "text/plain": [
       "[[-1, 0, -4]]"
      ]
     },
     "execution_count": 19,
     "metadata": {},
     "output_type": "execute_result"
    }
   ],
   "source": [
    "s = Solution()\n",
    "s.threeSum(nums=[1,-1,0,2,-1,-4],target=-5)"
   ]
  },
  {
   "cell_type": "code",
   "execution_count": 1,
   "metadata": {},
   "outputs": [],
   "source": [
    "from typing import List\n",
    "'''四数之和，调用三数之和'''\n",
    "class Solution:    \n",
    "    def twoSum(self, new_nums: List[int], start: int, target: int) -> List[int]:\n",
    "        # new_nums = sorted(nums)\n",
    "        ## 左右双指针, 左指针从start开始\n",
    "        left = start\n",
    "        right = len(new_nums)-1\n",
    "        sum_result = 0\n",
    "        result = []\n",
    "        while(left < right):\n",
    "            left_value = new_nums[left]\n",
    "            right_value = new_nums[right]\n",
    "            sum_result = left_value + right_value\n",
    "            if sum_result < target :\n",
    "                ## 判断当前值与下一个值是否相等，相等则跳过\n",
    "                while left < right and new_nums[left] == left_value: left = left + 1 \n",
    "            elif sum_result > target:\n",
    "                while left < right and new_nums[right] == right_value: right = right - 1 \n",
    "            elif sum_result == target:\n",
    "                first = new_nums[left]\n",
    "                second = new_nums[right]\n",
    "                result.append([first, second])\n",
    "                # left = left + 1 \n",
    "                # right = right - 1 \n",
    "                ## 判断当前值与下一个值是否相等，相等则跳过\n",
    "                while left < right and new_nums[left] == left_value: left = left + 1 \n",
    "                while left < right and new_nums[right] == right_value: right = right - 1 \n",
    "        return result\n",
    "    def threeSum(self, new_nums: List[int], start:int, target: int = 0) -> List[int]:\n",
    "        # new_nums = sorted(nums)\n",
    "        threesum_result = []\n",
    "        i = start\n",
    "        while i < len(new_nums):\n",
    "            # if new_nums[i]>target:   ## 排序后当前值大于target，，与后续值的和必然不能是target\n",
    "            #     i = i+1               ## 当target不为负数时，可以用此加速\n",
    "            #     continue\n",
    "            twosum_result = self.twoSum(new_nums=new_nums, start=i+1, target=target-new_nums[i])\n",
    "            for each in twosum_result:\n",
    "                each.extend([new_nums[i]])\n",
    "                threesum_result.append(each)\n",
    "            i = i+1\n",
    "            while i < len(new_nums) and new_nums[i-1] == new_nums[i]: ##判断上一个元素与新元素是否相同，相同则跳过，在此加一\n",
    "                i = i+1\n",
    "        return threesum_result\n",
    "    def fourSum(self, nums: List[int], target: int = 0) -> List[int]:\n",
    "        new_nums = sorted(nums)\n",
    "        foursum_result = []\n",
    "        i = 0 \n",
    "        while i <len(new_nums):\n",
    "\n",
    "            threesum_result = self.threeSum(new_nums=new_nums, start=i+1, target=target-new_nums[i])\n",
    "            for each in threesum_result:\n",
    "                each.extend([new_nums[i]])\n",
    "                foursum_result.append(each)\n",
    "            i = i+1\n",
    "            while i < len(new_nums) and new_nums[i-1] == new_nums[i]: ##判断上一个元素与新元素是否相同，相同则跳过，在此加一\n",
    "                i = i+1\n",
    "        return foursum_result"
   ]
  },
  {
   "cell_type": "code",
   "execution_count": 2,
   "metadata": {},
   "outputs": [
    {
     "data": {
      "text/plain": [
       "[[1, 2, -1, -2], [0, 2, 0, -2], [0, 1, 0, -1]]"
      ]
     },
     "execution_count": 2,
     "metadata": {},
     "output_type": "execute_result"
    }
   ],
   "source": [
    "s = Solution()\n",
    "# l = [2,2,2,2]\n",
    "l = [1,0,-1,0,-2,2]\n",
    "s.fourSum(nums=l,target=0)"
   ]
  },
  {
   "cell_type": "code",
   "execution_count": 11,
   "metadata": {},
   "outputs": [],
   "source": [
    "from typing import List\n",
    "'''n数之和'''\n",
    "class Solution:    \n",
    "    def n_numSum(self, nums: List[int], n: int, start: int, target: int) -> List[int]:\n",
    "        nums_size = len(nums)\n",
    "        result = []\n",
    "        if n<2 or nums_size<n:  ## 至少是 2Sum，且数组大小不应该小于 n\n",
    "            return result\n",
    "        if n==2:\n",
    "            left = start\n",
    "            right = nums_size - 1\n",
    "            while left < right:\n",
    "                left_value = nums[left]\n",
    "                right_value = nums[right]\n",
    "                sum_result = left_value + right_value\n",
    "                if sum_result < target:\n",
    "                    while left < right and nums[left] == left_value: left = left + 1\n",
    "                elif sum_result > target :\n",
    "                    while left < right and nums[right] == right_value: right = right - 1\n",
    "                elif sum_result == target :\n",
    "                    result.append([left_value, right_value])\n",
    "                    while left < right and nums[left] == left_value: left = left + 1\n",
    "                    while left < right and nums[right] == right_value: right = right - 1\n",
    "        else:\n",
    "            ## 当 n>2 时递归调用，计算(n-1)数之和\n",
    "            i = start\n",
    "            while i < nums_size:\n",
    "                sub_numSum = self.n_numSum(nums=nums, n=n-1, start=i+1, target=target-nums[i])\n",
    "                for each in sub_numSum:\n",
    "                    each.extend([nums[i]])\n",
    "                    result.append(each)\n",
    "                i = i + 1 \n",
    "                while i < nums_size and nums[i-1] == nums[i]: i = i + 1\n",
    "        return result    "
   ]
  },
  {
   "cell_type": "code",
   "execution_count": 13,
   "metadata": {},
   "outputs": [
    {
     "data": {
      "text/plain": [
       "[[-1, 0, -4]]"
      ]
     },
     "execution_count": 13,
     "metadata": {},
     "output_type": "execute_result"
    }
   ],
   "source": [
    "s = Solution()\n",
    "# l = [2,2,2,2]\n",
    "# l = [1,0,-1,0,-2,2]\n",
    "# l = [1,-1,0,2,-1,-4]\n",
    "l = [1,-1,0,2,-1,-4]\n",
    "l = sorted(l)\n",
    "s.n_numSum(nums=l, n=3, start=0, target=-5)"
   ]
  },
  {
   "cell_type": "code",
   "execution_count": 24,
   "metadata": {},
   "outputs": [],
   "source": [
    "# import collections\n",
    "# class Solution:\n",
    "#     def fourSum(self, nums: List[int], target: int) -> List[List[int]]:\n",
    "#         res = []\n",
    "#         d1 = collections.defaultdict(list)\n",
    "#         d2 = collections.defaultdict(list)\n",
    "#         for i in range(len(nums)):\n",
    "#             for j in range(i):\n",
    "#                 if [nums[i], nums[j]] not in d2[nums[i]+nums[j]]:\n",
    "#                     d1[nums[i]+nums[j]].append([i, j])\n",
    "#                     d2[nums[i]+nums[j]].append([nums[i], nums[j]])\n",
    "#         for i in range(len(nums)):\n",
    "#             for j in range(i):\n",
    "#                 for x, y in d1[target-nums[i]-nums[j]]:\n",
    "#                     if len(set([x,y,i,j])) == 4 and sorted([nums[i],nums[j],nums[x],nums[y]]) not in res:\n",
    "#                         res.append(sorted([nums[i],nums[j],nums[x],nums[y]]))\n",
    "#         return res"
   ]
  },
  {
   "cell_type": "code",
   "execution_count": 25,
   "metadata": {},
   "outputs": [
    {
     "data": {
      "text/plain": [
       "[[-1, 0, 0, 1], [-2, -1, 1, 2], [-2, 0, 0, 2]]"
      ]
     },
     "execution_count": 25,
     "metadata": {},
     "output_type": "execute_result"
    }
   ],
   "source": [
    "s = Solution()\n",
    "s.fourSum(nums=[1,-1,0,0,-2,2],target=0)"
   ]
  }
 ],
 "metadata": {
  "kernelspec": {
   "display_name": "Python 3.8.5 ('base')",
   "language": "python",
   "name": "python3"
  },
  "language_info": {
   "codemirror_mode": {
    "name": "ipython",
    "version": 3
   },
   "file_extension": ".py",
   "mimetype": "text/x-python",
   "name": "python",
   "nbconvert_exporter": "python",
   "pygments_lexer": "ipython3",
   "version": "3.8.5"
  },
  "orig_nbformat": 4,
  "vscode": {
   "interpreter": {
    "hash": "88279d2366fe020547cde40dd65aa0e3aa662a6ec1f3ca12d88834876c85e1a6"
   }
  }
 },
 "nbformat": 4,
 "nbformat_minor": 2
}
