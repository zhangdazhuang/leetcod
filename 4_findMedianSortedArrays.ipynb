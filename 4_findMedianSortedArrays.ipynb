{
 "cells": [
  {
   "cell_type": "code",
   "execution_count": null,
   "metadata": {},
   "outputs": [],
   "source": [
    "## author zjp\n",
    "## time 22-03-11_10.00.33\n",
    "## 给定两个大小分别为 m 和 n 的正序（从小到大）数组 nums1 和 nums2。请你找出并返回这两个正序数组的 中位数 。\n",
    "## 算法的时间复杂度应该为 O(log (m+n)) ##难点"
   ]
  },
  {
   "cell_type": "code",
   "execution_count": 55,
   "metadata": {},
   "outputs": [],
   "source": [
    "class Solution:\n",
    "    def findMedianSortedArrays(self, nums1, nums2):\n",
    "        temp = sorted(nums1 + nums2)\n",
    "        lent = len(temp)\n",
    "        if lent%2 == 1:\n",
    "            return temp[lent//2]\n",
    "        else:\n",
    "            return (temp[lent//2 -1] + temp[lent//2])/2"
   ]
  },
  {
   "cell_type": "code",
   "execution_count": 57,
   "metadata": {},
   "outputs": [
    {
     "data": {
      "text/plain": [
       "(10, [1, 2, 3, 4, 5, 6, 7, 9, 55, 834], 6.5)"
      ]
     },
     "execution_count": 57,
     "metadata": {},
     "output_type": "execute_result"
    }
   ],
   "source": [
    "a = [1,2,3,4,5,4,3,2,9]\n",
    "b = [55,6,7,834,1,2,3]\n",
    "c = sorted(a+b)\n",
    "temp = []\n",
    "for i in c :\n",
    "    if i not in temp:\n",
    "        temp.append(i)\n",
    "len(temp),temp,(temp[len(temp)//2]+temp[(len(temp)//2)+1])/2\n"
   ]
  },
  {
   "cell_type": "code",
   "execution_count": 58,
   "metadata": {},
   "outputs": [
    {
     "data": {
      "text/plain": [
       "3.5"
      ]
     },
     "execution_count": 58,
     "metadata": {},
     "output_type": "execute_result"
    }
   ],
   "source": [
    "s = Solution()\n",
    "s.findMedianSortedArrays(a,b)"
   ]
  },
  {
   "cell_type": "code",
   "execution_count": 60,
   "metadata": {},
   "outputs": [],
   "source": [
    "'''\n",
    "这个题目可以归结到寻找第k小(大)元素问题, 思路可以总结如下, 取两个数组中的第k/2个元素进行比较,\n",
    "如果数组1的元素小于数组2的元素, 则说明数组1中的前k/2个元素不可能成为第k个元素的候选, 所以将数\n",
    "组1中的前k/2个元素去掉, 组成新数组和数组2求第k-k/2小的元素, 因为我们把前k/2个元素去掉了, 所以\n",
    "相应的k值也应该减小。另外就是注意处理一些边界条件问题, 比如某一个数组可能为空或者k为1的情况。\n",
    "'''\n",
    "def findMedianSortedArrays(self, nums1, nums2):\n",
    "    def findKthElement(arr1,arr2,k):\n",
    "        len1,len2 = len(arr1),len(arr2)\n",
    "        if len1 > len2:\n",
    "            return findKthElement(arr2,arr1,k)\n",
    "        if not arr1:\n",
    "            return arr2[k-1]\n",
    "        if k == 1:\n",
    "            return min(arr1[0],arr2[0])\n",
    "        i,j = min(k//2,len1)-1,min(k//2,len2)-1\n",
    "        if arr1[i] > arr2[j]:\n",
    "            return findKthElement(arr1,arr2[j+1:],k-j-1)\n",
    "        else:\n",
    "            return findKthElement(arr1[i+1:],arr2,k-i-1)\n",
    "    l1,l2 = len(nums1),len(nums2)\n",
    "    left,right = (l1+l2+1)//2,(l1+l2+2)//2\n",
    "    return (findKthElement(nums1,nums2,left)+findKthElement(nums1,nums2,right))/2"
   ]
  },
  {
   "cell_type": "code",
   "execution_count": 61,
   "metadata": {},
   "outputs": [
    {
     "data": {
      "text/plain": [
       "3.5"
      ]
     },
     "execution_count": 61,
     "metadata": {},
     "output_type": "execute_result"
    }
   ],
   "source": [
    "s = Solution()\n",
    "s.findMedianSortedArrays(a,b)"
   ]
  },
  {
   "cell_type": "code",
   "execution_count": 49,
   "metadata": {},
   "outputs": [
    {
     "data": {
      "text/plain": [
       "[2, 3, 11, 43]"
      ]
     },
     "execution_count": 49,
     "metadata": {},
     "output_type": "execute_result"
    }
   ],
   "source": [
    "a= [11,2,3,43]\n",
    "a.sort()\n",
    "a"
   ]
  }
 ],
 "metadata": {
  "interpreter": {
   "hash": "6b96c477ac18b7976184c5f0ddec7f669b6840e7c982fff0568c626ab6dea508"
  },
  "kernelspec": {
   "display_name": "Python 3.7.9 ('pyt1k2')",
   "language": "python",
   "name": "python3"
  },
  "language_info": {
   "codemirror_mode": {
    "name": "ipython",
    "version": 3
   },
   "file_extension": ".py",
   "mimetype": "text/x-python",
   "name": "python",
   "nbconvert_exporter": "python",
   "pygments_lexer": "ipython3",
   "version": "3.7.9"
  },
  "orig_nbformat": 4
 },
 "nbformat": 4,
 "nbformat_minor": 2
}
