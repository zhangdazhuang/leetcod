{
 "cells": [
  {
   "cell_type": "code",
   "execution_count": 52,
   "metadata": {},
   "outputs": [],
   "source": [
    "def rebulidnum(s):\n",
    "    result = []\n",
    "    num = ['zero', 'one', 'two', 'three', 'four', 'five', 'six', 'seven' ,'eight', 'nine']\n",
    "    while s:\n",
    "        for each in num:\n",
    "            temp = [i in s for i in each]\n",
    "            if False not in temp and len(temp) == len(each):\n",
    "                result.append(str(num.index(each)))\n",
    "                for j in each:\n",
    "                    s = s.replace(j,'',1)\n",
    "    return ''.join(sorted(result))\n",
    "### 超出时间复杂度"
   ]
  },
  {
   "cell_type": "code",
   "execution_count": 1,
   "metadata": {},
   "outputs": [],
   "source": [
    "def numreplace(s, string, num):\n",
    "    for i in string :\n",
    "        s = s.replace(i, '', num)\n",
    "    return s"
   ]
  },
  {
   "cell_type": "code",
   "execution_count": 20,
   "metadata": {},
   "outputs": [],
   "source": [
    "def rebulidnum(s):\n",
    "    result = [] ##\"zero 0 eight 8 six 6  seven 7  four 4 five 5 nine 9 three 3 two 2 one 1\"\n",
    "    # nums = ['zero', 'one', 'two', 'three', 'four', 'five', 'six', 'seven' ,'eight', 'nine']\n",
    "    zerocount = s.count('z')\n",
    "    result.extend(['0']*zerocount)\n",
    "    s = numreplace(s, 'zero', zerocount)\n",
    "\n",
    "\n",
    "    eightcount = s.count('g')\n",
    "    result.extend(['8']*eightcount)\n",
    "    s = numreplace(s, 'eight', eightcount)\n",
    "\n",
    "    sixcount = s.count('x')\n",
    "    result.extend(['6']*sixcount)\n",
    "    s = numreplace(s, 'six', sixcount)\n",
    "\n",
    "    sevencount = s.count('s')\n",
    "    result.extend(['7']*sevencount)\n",
    "    s = numreplace(s, 'seven', sevencount)\n",
    "\n",
    "    fourcount = s.count('u') \n",
    "    result.extend(['4']*fourcount)\n",
    "    s = numreplace(s, 'four', fourcount)\n",
    "\n",
    "    fivecount = s.count('f')\n",
    "    result.extend(['5']*fivecount)\n",
    "    s = numreplace(s, 'five', fivecount)\n",
    "\n",
    "    ninecount = s.count('i')\n",
    "    result.extend(['9']*ninecount)\n",
    "    s = numreplace(s, 'nine', ninecount)\n",
    "\n",
    "    threecount = s.count('r')\n",
    "    result.extend(['3']*threecount)\n",
    "    s = numreplace(s, 'three', threecount)\n",
    "\n",
    "    twocount = s.count('t')\n",
    "    result.extend(['2']*twocount)\n",
    "    s = numreplace(s, 'two', twocount)\n",
    "\n",
    "    onecount = s.count('n')\n",
    "    result.extend(['1']*onecount)\n",
    "    s = numreplace(s, 'one', onecount)\n",
    "\n",
    "    return ''.join(sorted(result))     \n"
   ]
  },
  {
   "cell_type": "code",
   "execution_count": 22,
   "metadata": {},
   "outputs": [
    {
     "data": {
      "text/plain": [
       "'00112233445566778899'"
      ]
     },
     "execution_count": 22,
     "metadata": {},
     "output_type": "execute_result"
    }
   ],
   "source": [
    "s = \"zeroonetwothreefourfivesixseveneightninezeroonetwothreefourfivesixseveneightnine\"\n",
    "ss = rebulidnum(s)\n",
    "ss"
   ]
  },
  {
   "cell_type": "code",
   "execution_count": 21,
   "metadata": {},
   "outputs": [
    {
     "data": {
      "text/plain": [
       "'1'"
      ]
     },
     "execution_count": 21,
     "metadata": {},
     "output_type": "execute_result"
    }
   ],
   "source": [
    "s = \"neo\"\n",
    "ss = rebulidnum(s)\n",
    "ss"
   ]
  }
 ],
 "metadata": {
  "interpreter": {
   "hash": "ac36c0ad9bf0b059d9840d862b7ecc76d5919204f43f068a74c6ebf869383ad8"
  },
  "kernelspec": {
   "display_name": "Python 3.8.12 ('p38th18')",
   "language": "python",
   "name": "python3"
  },
  "language_info": {
   "codemirror_mode": {
    "name": "ipython",
    "version": 3
   },
   "file_extension": ".py",
   "mimetype": "text/x-python",
   "name": "python",
   "nbconvert_exporter": "python",
   "pygments_lexer": "ipython3",
   "version": "3.8.12"
  },
  "orig_nbformat": 4
 },
 "nbformat": 4,
 "nbformat_minor": 2
}
