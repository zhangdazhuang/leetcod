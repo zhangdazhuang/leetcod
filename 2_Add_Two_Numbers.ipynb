{
 "cells": [
  {
   "cell_type": "code",
   "execution_count": 1,
   "metadata": {},
   "outputs": [],
   "source": [
    "## author zjp\n",
    "## time 22-03-10_09.39.58"
   ]
  },
  {
   "cell_type": "code",
   "execution_count": 2,
   "metadata": {},
   "outputs": [],
   "source": [
    "# Definition for singly-linked list.\n",
    "class ListNode:\n",
    "    def __init__(self, val=0, next=None):\n",
    "        self.val = val\n",
    "        self.next = next"
   ]
  },
  {
   "cell_type": "code",
   "execution_count": null,
   "metadata": {},
   "outputs": [],
   "source": [
    "class Solution:\n",
    "    def addTwoNumbers(self, l1: ListNode, l2: ListNode) -> ListNode:\n",
    "        \n",
    "        return_data = ListNode(0)\n",
    "        head = return_data  ## 指向结果链表\n",
    "        data = 0\n",
    "        while (l1 or l2):\n",
    "            ## 判断链表是否为空，并链表取值\n",
    "            if l1 != None:\n",
    "                l1_data = l1.val\n",
    "            else:\n",
    "                l1_data = 0\n",
    "            if l2 != None:\n",
    "                l2_data = l2.val\n",
    "            else:\n",
    "                l2_data = 0\n",
    "            ## 计算新链表的值，并更新新链表\n",
    "            sum = data + l1_data +l2_data\n",
    "            data = sum//10  ## 取和的余数的整数部分作为计算下一位值时的值\n",
    "            return_data.next = ListNode(sum%10) ## 取和的余数作新链表的第一位\n",
    "            return_data = return_data.next  ## 更新链表指向\n",
    "            ## 判断链表是否为空，并更新链表指向\n",
    "            if l1 != None:\n",
    "                l1 = l1.next\n",
    "            if l2 != None:\n",
    "                l2 = l2.next\n",
    "        ## 如果计算最后一位时产生进位，则将其作为新的值插入到新链表中\n",
    "        if data > 0:\n",
    "            return_data.next = ListNode(data)\n",
    "        return head.next"
   ]
  },
  {
   "cell_type": "code",
   "execution_count": 4,
   "metadata": {},
   "outputs": [
    {
     "data": {
      "text/plain": [
       "2"
      ]
     },
     "execution_count": 4,
     "metadata": {},
     "output_type": "execute_result"
    }
   ],
   "source": [
    "class Solution:\n",
    "    def addTwoNumbers(self, l1: ListNode, l2: ListNode) -> ListNode:\n",
    "        return_data = ListNode(0)\n",
    "        head = return_data  ## 指向结果链表\n",
    "        data = 0\n",
    "        while (l1 or l2):\n",
    "            ## 判断链表是否为空，并链表取值，以及更新链表指向\n",
    "            if l1 != None:\n",
    "                l1_data = l1.val\n",
    "                l1 = l1.next\n",
    "            else:\n",
    "                l1_data = 0\n",
    "            if l2 != None:\n",
    "                l2_data = l2.val\n",
    "                l2 = l2.next\n",
    "            else:\n",
    "                l2_data = 0\n",
    "            ## 计算新链表的值，并更新新链表\n",
    "            sum = data + l1_data +l2_data\n",
    "            data = sum//10  ## 取和的余数的整数部分作为计算下一位值时的值\n",
    "            return_data.next = ListNode(sum%10) ## 取和的余数作新链表的第一位\n",
    "            return_data = return_data.next  ## 更新链表指向\n",
    "        ## 如果计算最后一位时产生进位，则将其作为新的值插入到新链表中\n",
    "        if data > 0:\n",
    "            return_data.next = ListNode(data)\n",
    "        return head.next"
   ]
  },
  {
   "cell_type": "code",
   "execution_count": null,
   "metadata": {},
   "outputs": [],
   "source": [
    "# class Solution:\n",
    "#     def addTwoNumbers(self, l1: ListNode, l2: ListNode) -> ListNode:\n",
    "#         return_data = ListNode(0)\n",
    "#         head = return_data  ## 指向结果链表\n",
    "#         data = 0\n",
    "#         while (l1 or l2):\n",
    "#             ## 判断链表是否为空，并链表取值，以及更新链表指向\n",
    "#             if l1 != None:\n",
    "#                 l1_data = l1.val\n",
    "#                 l1 = l1.next\n",
    "#             else:\n",
    "#                 l1_data = 0\n",
    "#             if l2 != None:\n",
    "#                 l2_data = l2.val\n",
    "#                 l2 = l2.next\n",
    "#             else:\n",
    "#                 l2_data = 0\n",
    "#             ## 计算新链表的值，并更新新链表            \n",
    "#             return_data.next = ListNode((data + l1_data +l2_data)%10) ## 取和的余数作新链表的第一位\n",
    "#             return_data = return_data.next  ## 更新链表指向\n",
    "#             data = (data + l1_data +l2_data)//10  ## 取和的余数的整数部分作为计算下一位值时的值\n",
    "#         ## 如果计算最后一位时产生进位，则将其作为新的值插入到新链表中\n",
    "#         if data > 0:\n",
    "#             return_data.next = ListNode(data)\n",
    "#         return head.next"
   ]
  }
 ],
 "metadata": {
  "interpreter": {
   "hash": "07efdcd4b820c98a756949507a4d29d7862823915ec7477944641bea022f4f62"
  },
  "kernelspec": {
   "display_name": "Python 3.8.5 ('base')",
   "language": "python",
   "name": "python3"
  },
  "language_info": {
   "codemirror_mode": {
    "name": "ipython",
    "version": 3
   },
   "file_extension": ".py",
   "mimetype": "text/x-python",
   "name": "python",
   "nbconvert_exporter": "python",
   "pygments_lexer": "ipython3",
   "version": "3.8.5"
  },
  "orig_nbformat": 4
 },
 "nbformat": 4,
 "nbformat_minor": 2
}
