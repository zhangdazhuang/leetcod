{
 "cells": [
  {
   "cell_type": "code",
   "execution_count": null,
   "metadata": {},
   "outputs": [],
   "source": [
    "# Definition for singly-linked list.\n",
    "class ListNode:\n",
    "    def __init__(self, val=0, next=None):\n",
    "        self.val = val\n",
    "        self.next = next"
   ]
  },
  {
   "cell_type": "code",
   "execution_count": 18,
   "metadata": {},
   "outputs": [],
   "source": [
    "## 基本的⼆叉树节点 \n",
    "# class TreeNode {\n",
    "#  int val;\n",
    "#  TreeNode left, right;\n",
    "# }\n",
    "class TreeNode(object):\n",
    "    def __init__(self, val=0, left=None, right=None):\n",
    "        self.val = val\n",
    "        self.left = left\n",
    "        self.right = right       \n"
   ]
  },
  {
   "cell_type": "code",
   "execution_count": 19,
   "metadata": {},
   "outputs": [],
   "source": [
    "def create_binary_tree(root):\n",
    "    if data_list[0] != None:\n",
    "        root = TreeNode(data_list[0])\n",
    "        data_list.pop(0)\n",
    "        # print(data_list)\n",
    "        root.left = create_binary_tree(root.left)\n",
    "        root.right = create_binary_tree(root.right)\n",
    "        return root\n",
    "    else:\n",
    "        root = None\n",
    "        data_list.pop(0)\n",
    "        # print(data_list)"
   ]
  },
  {
   "cell_type": "code",
   "execution_count": 20,
   "metadata": {},
   "outputs": [],
   "source": [
    "def Inorder(Root):## 遍历二叉树\n",
    "    if Root != None:\n",
    "        print(Root.val,end=' ')\n",
    "        Inorder(Root.left)\n",
    "        Inorder(Root.right)             "
   ]
  },
  {
   "cell_type": "code",
   "execution_count": 21,
   "metadata": {},
   "outputs": [],
   "source": [
    "data_list = [2,3,4,None,5,None,None,None,6,7,None,None,8,None,None]\n",
    "root = None\n",
    "root = create_binary_tree(root)"
   ]
  },
  {
   "cell_type": "code",
   "execution_count": 15,
   "metadata": {},
   "outputs": [
    {
     "name": "stdout",
     "output_type": "stream",
     "text": [
      "2 3 4 5 6 7 8 "
     ]
    }
   ],
   "source": [
    "Inorder(root)"
   ]
  },
  {
   "cell_type": "code",
   "execution_count": 39,
   "metadata": {},
   "outputs": [],
   "source": [
    "res = 0 \n",
    "depth = 0\n",
    "def trvaerse(root: TreeNode):\n",
    "    global res, depth\n",
    "    if root == None:\n",
    "        ## 到达叶子节点\n",
    "        res = max(res, depth)\n",
    "        return res\n",
    "    ## 前序遍历的位置\n",
    "    depth = depth + 1\n",
    "    trvaerse(root.left)\n",
    "    trvaerse(root.right)\n",
    "    ## 后序遍历的位置\n",
    "    depth = depth - 1\n",
    "    return res"
   ]
  },
  {
   "cell_type": "code",
   "execution_count": 40,
   "metadata": {},
   "outputs": [
    {
     "data": {
      "text/plain": [
       "4"
      ]
     },
     "execution_count": 40,
     "metadata": {},
     "output_type": "execute_result"
    }
   ],
   "source": [
    "trvaerse(root)"
   ]
  },
  {
   "cell_type": "code",
   "execution_count": null,
   "metadata": {},
   "outputs": [],
   "source": [
    "depth"
   ]
  },
  {
   "cell_type": "code",
   "execution_count": 93,
   "metadata": {},
   "outputs": [],
   "source": [
    "# class Binary_Tree():\n",
    "#     def __init__(self,data=0,Left_child=None,Right_child=None):#初始化变量\n",
    "#         self.data=data\n",
    "#         self.Left_child=Left_child#左孩子\n",
    "#         self.Right_child=Right_child#右孩子\n",
    "# def Creat_Binary_Tree(Root):\n",
    "#     if Data_Input[0]!=0:\n",
    "#         Root=Binary_Tree(Data_Input[0])#给Root赋给空间并且初始化\n",
    "#         Data_Input.pop(0)#pop处第一个数据，这样第一个数据就是原来的第二个位置上的数据如原来是[1,2,3]这样就变成[2,3]\n",
    "#         print(Data_Input)#输出当前列表中的元素\n",
    "#         Root.Left_child=Creat_Binary_Tree(Root.Left_child)\n",
    "#         Root.Right_child=Creat_Binary_Tree(Root.Right_child)\n",
    "#         return Root#将得到的节点返回\n",
    "#     else:\n",
    "#         Root=None#当data=0的时候就递归停止，就不继续产生节点\n",
    "#         Data_Input.pop(0)\n",
    "#         print(Data_Input)\n",
    "# def Inorder(Root):\n",
    "#     if Root != None:\n",
    "#         Inorder(Root.Left_child)\n",
    "#         print(Root.data,end=' ')\n",
    "#         Inorder(Root.Right_child)"
   ]
  },
  {
   "cell_type": "code",
   "execution_count": 99,
   "metadata": {},
   "outputs": [
    {
     "data": {
      "text/plain": [
       "3"
      ]
     },
     "execution_count": 99,
     "metadata": {},
     "output_type": "execute_result"
    }
   ],
   "source": []
  }
 ],
 "metadata": {
  "interpreter": {
   "hash": "07efdcd4b820c98a756949507a4d29d7862823915ec7477944641bea022f4f62"
  },
  "kernelspec": {
   "display_name": "Python 3.8.5 ('base')",
   "language": "python",
   "name": "python3"
  },
  "language_info": {
   "codemirror_mode": {
    "name": "ipython",
    "version": 3
   },
   "file_extension": ".py",
   "mimetype": "text/x-python",
   "name": "python",
   "nbconvert_exporter": "python",
   "pygments_lexer": "ipython3",
   "version": "3.8.5"
  },
  "orig_nbformat": 4
 },
 "nbformat": 4,
 "nbformat_minor": 2
}
